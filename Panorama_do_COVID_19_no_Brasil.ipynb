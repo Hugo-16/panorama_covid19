{
  "nbformat": 4,
  "nbformat_minor": 0,
  "metadata": {
    "colab": {
      "name": "Panorama do COVID-19 no Brasil.ipynb",
      "provenance": [],
      "collapsed_sections": [],
      "authorship_tag": "ABX9TyMs4YyLECY90aIrGzbSfLZu",
      "include_colab_link": true
    },
    "kernelspec": {
      "name": "python3",
      "display_name": "Python 3"
    },
    "language_info": {
      "name": "python"
    }
  },
  "cells": [
    {
      "cell_type": "markdown",
      "metadata": {
        "id": "view-in-github",
        "colab_type": "text"
      },
      "source": [
        "<a href=\"https://colab.research.google.com/github/Hugo-16/panorama_covid19/blob/main/Panorama_do_COVID_19_no_Brasil.ipynb\" target=\"_parent\"><img src=\"https://colab.research.google.com/assets/colab-badge.svg\" alt=\"Open In Colab\"/></a>"
      ]
    },
    {
      "cell_type": "markdown",
      "metadata": {
        "id": "kbGsW9ApTvdQ"
      },
      "source": [
        "#Panorama do COVID-19\n",
        "\n",
        "\n",
        "\n",
        "\n",
        "by [Hugo Leonardo](https://hugo-16.github.io/)\n",
        "\n",
        "---"
      ]
    },
    {
      "cell_type": "markdown",
      "metadata": {
        "id": "Gnl92wYpUf0H"
      },
      "source": [
        "COVID-19 é uma doença infecciosa causada por recém-descoberto coronavírus.\n",
        "\n",
        "Transmitido principalmente por meio de gotículas provenientes de tosses ou espirros de pessoas infectadas, a gravidade dos sintomas varia muito de pessoa para pessoa.\n",
        "\n",
        "Fato é, não se sabe muita coisa a respeito do COVID-19. Estudos estão sendo realizados no mundo todo, porém os resultados ainda não são conclusivos e definitivos.\n",
        "\n",
        "<center><img alt=\"Colaboratory logo\" width=\"50%\" src=\"https://raw.githubusercontent.com/carlosfab/dsnp2/master/img/covid19.jpg\"></center>\n",
        "\n",
        "Até o presente momento, observa-se que cerca de 80% dos casos confirmados são assintomáticos e rápidos. A maioria das pessoas que se encaixam nesse grupo, se recupera sem nenhuma sequela.\n",
        "\n",
        "No entanto, 15% das pessoas terão infecções graves e precisarão de oxigênio. O restante das pessoas, que representam 5%, serão classificadas como infecções muito graves e precisarão de ventilação assistida, por meio de respiradores mecânicos em ambiente hospitalar.\n",
        "\n",
        "Com o objetivo de elevar a consciência situacional a respeito do COVID-19 no Brasil, irei realizar uma análise sobre os dados públicos da doença.\n",
        "\n",
        "---"
      ]
    },
    {
      "cell_type": "markdown",
      "metadata": {
        "id": "Y9XCXcU2WqWV"
      },
      "source": [
        "#Obtenção dos Dados\n",
        "\n",
        "O dataset que usaremos foi feito pela [Our World in Data](https://ourworldindata.org/), uma startup sem fins lucrativos — que tem como missão combinar dados e pesquisas acadêmicas sobre as tendências que moldam o mundo como o conhecemos hoje. Não apenas isso, mas também apresentá-las e explicá-las de forma clara e interativa.\n",
        "\n",
        "#####* Dados referentes 2020-02-24 à 2021-09-26\n",
        "---"
      ]
    },
    {
      "cell_type": "code",
      "metadata": {
        "id": "L_NLQqLxBygA"
      },
      "source": [
        ""
      ],
      "execution_count": null,
      "outputs": []
    },
    {
      "cell_type": "markdown",
      "metadata": {
        "id": "LA15LIvrLtmg"
      },
      "source": [
        "#Dicionário de variáveis\n",
        "\n",
        "O dataset que utilizaremos possui uma quantidade total de 64 colunas, no entanto para esta análise exploatória utilizaremos aenas as seguintes:\n",
        "\n",
        ">\n",
        "* `total_cases` - Total de casos confirmados com COVID-19.\n",
        "* `total_deaths` - Total de mortes atribuídas a COVID-19.\n",
        "* `location` - Localização divida por continentes e países além de uma visão gral do mundo.\n",
        "* `date` - data.\n",
        "* `people_vaccinated` - Número total de pessoas que receberam pelo menos uma dose de vacina.\n",
        "* `people_fully_vaccinated` - Número total de pessoas que receberam todas as doses prescritas pelo protocolo de vacinação."
      ]
    },
    {
      "cell_type": "markdown",
      "metadata": {
        "id": "ZNw1oxxqvnLl"
      },
      "source": [
        "#Importando dados do COVID-19"
      ]
    },
    {
      "cell_type": "code",
      "metadata": {
        "id": "mE4Zd-IPvwmS"
      },
      "source": [
        "#Importação pacotes necessários\n",
        "import pandas as pd\n",
        "import seaborn as sns\n",
        "import matplotlib.pyplot as plt\n",
        "from datetime import datetime\n",
        "\n",
        "%matplotlib inline"
      ],
      "execution_count": null,
      "outputs": []
    },
    {
      "cell_type": "code",
      "metadata": {
        "id": "v9_CpQKTwa1i"
      },
      "source": [
        "#Importação do dataset e transformação em DataFrame\n",
        "data_path = \"https://covid.ourworldindata.org/data/owid-covid-data.csv\"\n",
        "df = pd.read_csv(data_path)"
      ],
      "execution_count": null,
      "outputs": []
    },
    {
      "cell_type": "markdown",
      "metadata": {
        "id": "Px7XuMAMxqw_"
      },
      "source": [
        "---\n",
        "#Análise Exploratória dos Dados\n",
        "\n",
        "Esta etapa tem por objetivo criar uma consciência situacional inicial e permitir um entendimento de como os dados estão estraturados."
      ]
    },
    {
      "cell_type": "code",
      "metadata": {
        "colab": {
          "base_uri": "https://localhost:8080/",
          "height": 313
        },
        "id": "47bARivvzXRY",
        "outputId": "c01f22ad-775a-4bad-f938-15e057bd0a03"
      },
      "source": [
        "#Visualizar 5 primeiras entradas do DataFrame.\n",
        "df.head()"
      ],
      "execution_count": null,
      "outputs": [
        {
          "output_type": "execute_result",
          "data": {
            "text/html": [
              "<div>\n",
              "<style scoped>\n",
              "    .dataframe tbody tr th:only-of-type {\n",
              "        vertical-align: middle;\n",
              "    }\n",
              "\n",
              "    .dataframe tbody tr th {\n",
              "        vertical-align: top;\n",
              "    }\n",
              "\n",
              "    .dataframe thead th {\n",
              "        text-align: right;\n",
              "    }\n",
              "</style>\n",
              "<table border=\"1\" class=\"dataframe\">\n",
              "  <thead>\n",
              "    <tr style=\"text-align: right;\">\n",
              "      <th></th>\n",
              "      <th>iso_code</th>\n",
              "      <th>continent</th>\n",
              "      <th>location</th>\n",
              "      <th>date</th>\n",
              "      <th>total_cases</th>\n",
              "      <th>new_cases</th>\n",
              "      <th>new_cases_smoothed</th>\n",
              "      <th>total_deaths</th>\n",
              "      <th>new_deaths</th>\n",
              "      <th>new_deaths_smoothed</th>\n",
              "      <th>total_cases_per_million</th>\n",
              "      <th>new_cases_per_million</th>\n",
              "      <th>new_cases_smoothed_per_million</th>\n",
              "      <th>total_deaths_per_million</th>\n",
              "      <th>new_deaths_per_million</th>\n",
              "      <th>new_deaths_smoothed_per_million</th>\n",
              "      <th>reproduction_rate</th>\n",
              "      <th>icu_patients</th>\n",
              "      <th>icu_patients_per_million</th>\n",
              "      <th>hosp_patients</th>\n",
              "      <th>hosp_patients_per_million</th>\n",
              "      <th>weekly_icu_admissions</th>\n",
              "      <th>weekly_icu_admissions_per_million</th>\n",
              "      <th>weekly_hosp_admissions</th>\n",
              "      <th>weekly_hosp_admissions_per_million</th>\n",
              "      <th>new_tests</th>\n",
              "      <th>total_tests</th>\n",
              "      <th>total_tests_per_thousand</th>\n",
              "      <th>new_tests_per_thousand</th>\n",
              "      <th>new_tests_smoothed</th>\n",
              "      <th>new_tests_smoothed_per_thousand</th>\n",
              "      <th>positive_rate</th>\n",
              "      <th>tests_per_case</th>\n",
              "      <th>tests_units</th>\n",
              "      <th>total_vaccinations</th>\n",
              "      <th>people_vaccinated</th>\n",
              "      <th>people_fully_vaccinated</th>\n",
              "      <th>total_boosters</th>\n",
              "      <th>new_vaccinations</th>\n",
              "      <th>new_vaccinations_smoothed</th>\n",
              "      <th>total_vaccinations_per_hundred</th>\n",
              "      <th>people_vaccinated_per_hundred</th>\n",
              "      <th>people_fully_vaccinated_per_hundred</th>\n",
              "      <th>total_boosters_per_hundred</th>\n",
              "      <th>new_vaccinations_smoothed_per_million</th>\n",
              "      <th>stringency_index</th>\n",
              "      <th>population</th>\n",
              "      <th>population_density</th>\n",
              "      <th>median_age</th>\n",
              "      <th>aged_65_older</th>\n",
              "      <th>aged_70_older</th>\n",
              "      <th>gdp_per_capita</th>\n",
              "      <th>extreme_poverty</th>\n",
              "      <th>cardiovasc_death_rate</th>\n",
              "      <th>diabetes_prevalence</th>\n",
              "      <th>female_smokers</th>\n",
              "      <th>male_smokers</th>\n",
              "      <th>handwashing_facilities</th>\n",
              "      <th>hospital_beds_per_thousand</th>\n",
              "      <th>life_expectancy</th>\n",
              "      <th>human_development_index</th>\n",
              "      <th>excess_mortality_cumulative_absolute</th>\n",
              "      <th>excess_mortality_cumulative</th>\n",
              "      <th>excess_mortality</th>\n",
              "      <th>excess_mortality_cumulative_per_million</th>\n",
              "    </tr>\n",
              "  </thead>\n",
              "  <tbody>\n",
              "    <tr>\n",
              "      <th>0</th>\n",
              "      <td>AFG</td>\n",
              "      <td>Asia</td>\n",
              "      <td>Afghanistan</td>\n",
              "      <td>2020-02-24</td>\n",
              "      <td>5.0</td>\n",
              "      <td>5.0</td>\n",
              "      <td>NaN</td>\n",
              "      <td>NaN</td>\n",
              "      <td>NaN</td>\n",
              "      <td>NaN</td>\n",
              "      <td>0.126</td>\n",
              "      <td>0.126</td>\n",
              "      <td>NaN</td>\n",
              "      <td>NaN</td>\n",
              "      <td>NaN</td>\n",
              "      <td>NaN</td>\n",
              "      <td>NaN</td>\n",
              "      <td>NaN</td>\n",
              "      <td>NaN</td>\n",
              "      <td>NaN</td>\n",
              "      <td>NaN</td>\n",
              "      <td>NaN</td>\n",
              "      <td>NaN</td>\n",
              "      <td>NaN</td>\n",
              "      <td>NaN</td>\n",
              "      <td>NaN</td>\n",
              "      <td>NaN</td>\n",
              "      <td>NaN</td>\n",
              "      <td>NaN</td>\n",
              "      <td>NaN</td>\n",
              "      <td>NaN</td>\n",
              "      <td>NaN</td>\n",
              "      <td>NaN</td>\n",
              "      <td>NaN</td>\n",
              "      <td>NaN</td>\n",
              "      <td>NaN</td>\n",
              "      <td>NaN</td>\n",
              "      <td>NaN</td>\n",
              "      <td>NaN</td>\n",
              "      <td>NaN</td>\n",
              "      <td>NaN</td>\n",
              "      <td>NaN</td>\n",
              "      <td>NaN</td>\n",
              "      <td>NaN</td>\n",
              "      <td>NaN</td>\n",
              "      <td>8.33</td>\n",
              "      <td>39835428.0</td>\n",
              "      <td>54.422</td>\n",
              "      <td>18.6</td>\n",
              "      <td>2.581</td>\n",
              "      <td>1.337</td>\n",
              "      <td>1803.987</td>\n",
              "      <td>NaN</td>\n",
              "      <td>597.029</td>\n",
              "      <td>9.59</td>\n",
              "      <td>NaN</td>\n",
              "      <td>NaN</td>\n",
              "      <td>37.746</td>\n",
              "      <td>0.5</td>\n",
              "      <td>64.83</td>\n",
              "      <td>0.511</td>\n",
              "      <td>NaN</td>\n",
              "      <td>NaN</td>\n",
              "      <td>NaN</td>\n",
              "      <td>NaN</td>\n",
              "    </tr>\n",
              "    <tr>\n",
              "      <th>1</th>\n",
              "      <td>AFG</td>\n",
              "      <td>Asia</td>\n",
              "      <td>Afghanistan</td>\n",
              "      <td>2020-02-25</td>\n",
              "      <td>5.0</td>\n",
              "      <td>0.0</td>\n",
              "      <td>NaN</td>\n",
              "      <td>NaN</td>\n",
              "      <td>NaN</td>\n",
              "      <td>NaN</td>\n",
              "      <td>0.126</td>\n",
              "      <td>0.000</td>\n",
              "      <td>NaN</td>\n",
              "      <td>NaN</td>\n",
              "      <td>NaN</td>\n",
              "      <td>NaN</td>\n",
              "      <td>NaN</td>\n",
              "      <td>NaN</td>\n",
              "      <td>NaN</td>\n",
              "      <td>NaN</td>\n",
              "      <td>NaN</td>\n",
              "      <td>NaN</td>\n",
              "      <td>NaN</td>\n",
              "      <td>NaN</td>\n",
              "      <td>NaN</td>\n",
              "      <td>NaN</td>\n",
              "      <td>NaN</td>\n",
              "      <td>NaN</td>\n",
              "      <td>NaN</td>\n",
              "      <td>NaN</td>\n",
              "      <td>NaN</td>\n",
              "      <td>NaN</td>\n",
              "      <td>NaN</td>\n",
              "      <td>NaN</td>\n",
              "      <td>NaN</td>\n",
              "      <td>NaN</td>\n",
              "      <td>NaN</td>\n",
              "      <td>NaN</td>\n",
              "      <td>NaN</td>\n",
              "      <td>NaN</td>\n",
              "      <td>NaN</td>\n",
              "      <td>NaN</td>\n",
              "      <td>NaN</td>\n",
              "      <td>NaN</td>\n",
              "      <td>NaN</td>\n",
              "      <td>8.33</td>\n",
              "      <td>39835428.0</td>\n",
              "      <td>54.422</td>\n",
              "      <td>18.6</td>\n",
              "      <td>2.581</td>\n",
              "      <td>1.337</td>\n",
              "      <td>1803.987</td>\n",
              "      <td>NaN</td>\n",
              "      <td>597.029</td>\n",
              "      <td>9.59</td>\n",
              "      <td>NaN</td>\n",
              "      <td>NaN</td>\n",
              "      <td>37.746</td>\n",
              "      <td>0.5</td>\n",
              "      <td>64.83</td>\n",
              "      <td>0.511</td>\n",
              "      <td>NaN</td>\n",
              "      <td>NaN</td>\n",
              "      <td>NaN</td>\n",
              "      <td>NaN</td>\n",
              "    </tr>\n",
              "    <tr>\n",
              "      <th>2</th>\n",
              "      <td>AFG</td>\n",
              "      <td>Asia</td>\n",
              "      <td>Afghanistan</td>\n",
              "      <td>2020-02-26</td>\n",
              "      <td>5.0</td>\n",
              "      <td>0.0</td>\n",
              "      <td>NaN</td>\n",
              "      <td>NaN</td>\n",
              "      <td>NaN</td>\n",
              "      <td>NaN</td>\n",
              "      <td>0.126</td>\n",
              "      <td>0.000</td>\n",
              "      <td>NaN</td>\n",
              "      <td>NaN</td>\n",
              "      <td>NaN</td>\n",
              "      <td>NaN</td>\n",
              "      <td>NaN</td>\n",
              "      <td>NaN</td>\n",
              "      <td>NaN</td>\n",
              "      <td>NaN</td>\n",
              "      <td>NaN</td>\n",
              "      <td>NaN</td>\n",
              "      <td>NaN</td>\n",
              "      <td>NaN</td>\n",
              "      <td>NaN</td>\n",
              "      <td>NaN</td>\n",
              "      <td>NaN</td>\n",
              "      <td>NaN</td>\n",
              "      <td>NaN</td>\n",
              "      <td>NaN</td>\n",
              "      <td>NaN</td>\n",
              "      <td>NaN</td>\n",
              "      <td>NaN</td>\n",
              "      <td>NaN</td>\n",
              "      <td>NaN</td>\n",
              "      <td>NaN</td>\n",
              "      <td>NaN</td>\n",
              "      <td>NaN</td>\n",
              "      <td>NaN</td>\n",
              "      <td>NaN</td>\n",
              "      <td>NaN</td>\n",
              "      <td>NaN</td>\n",
              "      <td>NaN</td>\n",
              "      <td>NaN</td>\n",
              "      <td>NaN</td>\n",
              "      <td>8.33</td>\n",
              "      <td>39835428.0</td>\n",
              "      <td>54.422</td>\n",
              "      <td>18.6</td>\n",
              "      <td>2.581</td>\n",
              "      <td>1.337</td>\n",
              "      <td>1803.987</td>\n",
              "      <td>NaN</td>\n",
              "      <td>597.029</td>\n",
              "      <td>9.59</td>\n",
              "      <td>NaN</td>\n",
              "      <td>NaN</td>\n",
              "      <td>37.746</td>\n",
              "      <td>0.5</td>\n",
              "      <td>64.83</td>\n",
              "      <td>0.511</td>\n",
              "      <td>NaN</td>\n",
              "      <td>NaN</td>\n",
              "      <td>NaN</td>\n",
              "      <td>NaN</td>\n",
              "    </tr>\n",
              "    <tr>\n",
              "      <th>3</th>\n",
              "      <td>AFG</td>\n",
              "      <td>Asia</td>\n",
              "      <td>Afghanistan</td>\n",
              "      <td>2020-02-27</td>\n",
              "      <td>5.0</td>\n",
              "      <td>0.0</td>\n",
              "      <td>NaN</td>\n",
              "      <td>NaN</td>\n",
              "      <td>NaN</td>\n",
              "      <td>NaN</td>\n",
              "      <td>0.126</td>\n",
              "      <td>0.000</td>\n",
              "      <td>NaN</td>\n",
              "      <td>NaN</td>\n",
              "      <td>NaN</td>\n",
              "      <td>NaN</td>\n",
              "      <td>NaN</td>\n",
              "      <td>NaN</td>\n",
              "      <td>NaN</td>\n",
              "      <td>NaN</td>\n",
              "      <td>NaN</td>\n",
              "      <td>NaN</td>\n",
              "      <td>NaN</td>\n",
              "      <td>NaN</td>\n",
              "      <td>NaN</td>\n",
              "      <td>NaN</td>\n",
              "      <td>NaN</td>\n",
              "      <td>NaN</td>\n",
              "      <td>NaN</td>\n",
              "      <td>NaN</td>\n",
              "      <td>NaN</td>\n",
              "      <td>NaN</td>\n",
              "      <td>NaN</td>\n",
              "      <td>NaN</td>\n",
              "      <td>NaN</td>\n",
              "      <td>NaN</td>\n",
              "      <td>NaN</td>\n",
              "      <td>NaN</td>\n",
              "      <td>NaN</td>\n",
              "      <td>NaN</td>\n",
              "      <td>NaN</td>\n",
              "      <td>NaN</td>\n",
              "      <td>NaN</td>\n",
              "      <td>NaN</td>\n",
              "      <td>NaN</td>\n",
              "      <td>8.33</td>\n",
              "      <td>39835428.0</td>\n",
              "      <td>54.422</td>\n",
              "      <td>18.6</td>\n",
              "      <td>2.581</td>\n",
              "      <td>1.337</td>\n",
              "      <td>1803.987</td>\n",
              "      <td>NaN</td>\n",
              "      <td>597.029</td>\n",
              "      <td>9.59</td>\n",
              "      <td>NaN</td>\n",
              "      <td>NaN</td>\n",
              "      <td>37.746</td>\n",
              "      <td>0.5</td>\n",
              "      <td>64.83</td>\n",
              "      <td>0.511</td>\n",
              "      <td>NaN</td>\n",
              "      <td>NaN</td>\n",
              "      <td>NaN</td>\n",
              "      <td>NaN</td>\n",
              "    </tr>\n",
              "    <tr>\n",
              "      <th>4</th>\n",
              "      <td>AFG</td>\n",
              "      <td>Asia</td>\n",
              "      <td>Afghanistan</td>\n",
              "      <td>2020-02-28</td>\n",
              "      <td>5.0</td>\n",
              "      <td>0.0</td>\n",
              "      <td>NaN</td>\n",
              "      <td>NaN</td>\n",
              "      <td>NaN</td>\n",
              "      <td>NaN</td>\n",
              "      <td>0.126</td>\n",
              "      <td>0.000</td>\n",
              "      <td>NaN</td>\n",
              "      <td>NaN</td>\n",
              "      <td>NaN</td>\n",
              "      <td>NaN</td>\n",
              "      <td>NaN</td>\n",
              "      <td>NaN</td>\n",
              "      <td>NaN</td>\n",
              "      <td>NaN</td>\n",
              "      <td>NaN</td>\n",
              "      <td>NaN</td>\n",
              "      <td>NaN</td>\n",
              "      <td>NaN</td>\n",
              "      <td>NaN</td>\n",
              "      <td>NaN</td>\n",
              "      <td>NaN</td>\n",
              "      <td>NaN</td>\n",
              "      <td>NaN</td>\n",
              "      <td>NaN</td>\n",
              "      <td>NaN</td>\n",
              "      <td>NaN</td>\n",
              "      <td>NaN</td>\n",
              "      <td>NaN</td>\n",
              "      <td>NaN</td>\n",
              "      <td>NaN</td>\n",
              "      <td>NaN</td>\n",
              "      <td>NaN</td>\n",
              "      <td>NaN</td>\n",
              "      <td>NaN</td>\n",
              "      <td>NaN</td>\n",
              "      <td>NaN</td>\n",
              "      <td>NaN</td>\n",
              "      <td>NaN</td>\n",
              "      <td>NaN</td>\n",
              "      <td>8.33</td>\n",
              "      <td>39835428.0</td>\n",
              "      <td>54.422</td>\n",
              "      <td>18.6</td>\n",
              "      <td>2.581</td>\n",
              "      <td>1.337</td>\n",
              "      <td>1803.987</td>\n",
              "      <td>NaN</td>\n",
              "      <td>597.029</td>\n",
              "      <td>9.59</td>\n",
              "      <td>NaN</td>\n",
              "      <td>NaN</td>\n",
              "      <td>37.746</td>\n",
              "      <td>0.5</td>\n",
              "      <td>64.83</td>\n",
              "      <td>0.511</td>\n",
              "      <td>NaN</td>\n",
              "      <td>NaN</td>\n",
              "      <td>NaN</td>\n",
              "      <td>NaN</td>\n",
              "    </tr>\n",
              "  </tbody>\n",
              "</table>\n",
              "</div>"
            ],
            "text/plain": [
              "  iso_code continent  ... excess_mortality excess_mortality_cumulative_per_million\n",
              "0      AFG      Asia  ...              NaN                                     NaN\n",
              "1      AFG      Asia  ...              NaN                                     NaN\n",
              "2      AFG      Asia  ...              NaN                                     NaN\n",
              "3      AFG      Asia  ...              NaN                                     NaN\n",
              "4      AFG      Asia  ...              NaN                                     NaN\n",
              "\n",
              "[5 rows x 65 columns]"
            ]
          },
          "metadata": {},
          "execution_count": 3
        }
      ]
    },
    {
      "cell_type": "code",
      "metadata": {
        "colab": {
          "base_uri": "https://localhost:8080/"
        },
        "id": "H4T_hSzlzhWk",
        "outputId": "b8ec75c3-671f-4328-843f-42b2e90a2e7d"
      },
      "source": [
        "#Visualizar tamanho do DataFrame.\n",
        "df.shape"
      ],
      "execution_count": null,
      "outputs": [
        {
          "output_type": "execute_result",
          "data": {
            "text/plain": [
              "(119911, 65)"
            ]
          },
          "metadata": {},
          "execution_count": 4
        }
      ]
    },
    {
      "cell_type": "code",
      "metadata": {
        "id": "uYLEUfy-I9DO",
        "colab": {
          "base_uri": "https://localhost:8080/"
        },
        "outputId": "bca10df2-570e-4f73-da25-e1288f2b2067"
      },
      "source": [
        "#Exatrair nome das colunas.\n",
        "df.columns"
      ],
      "execution_count": null,
      "outputs": [
        {
          "output_type": "execute_result",
          "data": {
            "text/plain": [
              "Index(['iso_code', 'continent', 'location', 'date', 'total_cases', 'new_cases',\n",
              "       'new_cases_smoothed', 'total_deaths', 'new_deaths',\n",
              "       'new_deaths_smoothed', 'total_cases_per_million',\n",
              "       'new_cases_per_million', 'new_cases_smoothed_per_million',\n",
              "       'total_deaths_per_million', 'new_deaths_per_million',\n",
              "       'new_deaths_smoothed_per_million', 'reproduction_rate', 'icu_patients',\n",
              "       'icu_patients_per_million', 'hosp_patients',\n",
              "       'hosp_patients_per_million', 'weekly_icu_admissions',\n",
              "       'weekly_icu_admissions_per_million', 'weekly_hosp_admissions',\n",
              "       'weekly_hosp_admissions_per_million', 'new_tests', 'total_tests',\n",
              "       'total_tests_per_thousand', 'new_tests_per_thousand',\n",
              "       'new_tests_smoothed', 'new_tests_smoothed_per_thousand',\n",
              "       'positive_rate', 'tests_per_case', 'tests_units', 'total_vaccinations',\n",
              "       'people_vaccinated', 'people_fully_vaccinated', 'total_boosters',\n",
              "       'new_vaccinations', 'new_vaccinations_smoothed',\n",
              "       'total_vaccinations_per_hundred', 'people_vaccinated_per_hundred',\n",
              "       'people_fully_vaccinated_per_hundred', 'total_boosters_per_hundred',\n",
              "       'new_vaccinations_smoothed_per_million', 'stringency_index',\n",
              "       'population', 'population_density', 'median_age', 'aged_65_older',\n",
              "       'aged_70_older', 'gdp_per_capita', 'extreme_poverty',\n",
              "       'cardiovasc_death_rate', 'diabetes_prevalence', 'female_smokers',\n",
              "       'male_smokers', 'handwashing_facilities', 'hospital_beds_per_thousand',\n",
              "       'life_expectancy', 'human_development_index',\n",
              "       'excess_mortality_cumulative_absolute', 'excess_mortality_cumulative',\n",
              "       'excess_mortality', 'excess_mortality_cumulative_per_million'],\n",
              "      dtype='object')"
            ]
          },
          "metadata": {},
          "execution_count": 5
        }
      ]
    },
    {
      "cell_type": "code",
      "metadata": {
        "colab": {
          "base_uri": "https://localhost:8080/"
        },
        "id": "boqAZ8fkzs7t",
        "outputId": "03b8f4e6-7c6c-483a-e16e-ec19f0322da2"
      },
      "source": [
        "#Visuzaliar tipos de variáveis.\n",
        "df.dtypes"
      ],
      "execution_count": null,
      "outputs": [
        {
          "output_type": "execute_result",
          "data": {
            "text/plain": [
              "iso_code                                    object\n",
              "continent                                   object\n",
              "location                                    object\n",
              "date                                        object\n",
              "total_cases                                float64\n",
              "                                            ...   \n",
              "human_development_index                    float64\n",
              "excess_mortality_cumulative_absolute       float64\n",
              "excess_mortality_cumulative                float64\n",
              "excess_mortality                           float64\n",
              "excess_mortality_cumulative_per_million    float64\n",
              "Length: 65, dtype: object"
            ]
          },
          "metadata": {},
          "execution_count": 6
        }
      ]
    },
    {
      "cell_type": "code",
      "metadata": {
        "colab": {
          "base_uri": "https://localhost:8080/"
        },
        "id": "WY3S6TG3z7VL",
        "outputId": "70a4d1b2-b27f-4f85-c5ac-6cccc662b34f"
      },
      "source": [
        "#Visualizar porcentagem de valores ausentes das colunas em ordem descrescente.\n",
        "(df.isnull().sum() / df.shape[0]).sort_values(ascending=False)"
      ],
      "execution_count": null,
      "outputs": [
        {
          "output_type": "execute_result",
          "data": {
            "text/plain": [
              "weekly_icu_admissions                 0.989684\n",
              "weekly_icu_admissions_per_million     0.989684\n",
              "weekly_hosp_admissions_per_million    0.981837\n",
              "weekly_hosp_admissions                0.981837\n",
              "total_boosters                        0.976091\n",
              "                                        ...   \n",
              "continent                             0.045617\n",
              "population                            0.006788\n",
              "location                              0.000000\n",
              "date                                  0.000000\n",
              "iso_code                              0.000000\n",
              "Length: 65, dtype: float64"
            ]
          },
          "metadata": {},
          "execution_count": 7
        }
      ]
    },
    {
      "cell_type": "code",
      "metadata": {
        "id": "XGy9SFoz2gM3"
      },
      "source": [
        "#Transformar coluna date em datetime.\n",
        "df.date = pd.to_datetime(df.date)"
      ],
      "execution_count": null,
      "outputs": []
    },
    {
      "cell_type": "markdown",
      "metadata": {
        "id": "fgYLvxeFOrp2"
      },
      "source": [
        "O código na célula abaixo irá garantir que sempre utilizaremos a data mais recente de casos, isso se faz necssário pois este dataset é atualizado regularmente."
      ]
    },
    {
      "cell_type": "code",
      "metadata": {
        "colab": {
          "base_uri": "https://localhost:8080/",
          "height": 35
        },
        "id": "Bgv7QMDs4gX6",
        "outputId": "7170187d-7b6b-4975-bd20-93be4a84c264"
      },
      "source": [
        "#Separar data mais recente de países com mais casos e mortes.\n",
        "data_atualizada = (df.date).sort_values(ascending=False).head(1)\n",
        "df_str = pd.Series.to_string(data_atualizada)\n",
        "separar = df_str.split()\n",
        "separar[1]"
      ],
      "execution_count": null,
      "outputs": [
        {
          "output_type": "execute_result",
          "data": {
            "application/vnd.google.colaboratory.intrinsic+json": {
              "type": "string"
            },
            "text/plain": [
              "'2021-09-28'"
            ]
          },
          "metadata": {},
          "execution_count": 9
        }
      ]
    },
    {
      "cell_type": "markdown",
      "metadata": {
        "id": "kdS3sDgEstdT"
      },
      "source": [
        "#Q1 - Quais países possuem mais casos e mortes por COVID-19?"
      ]
    },
    {
      "cell_type": "code",
      "metadata": {
        "colab": {
          "base_uri": "https://localhost:8080/",
          "height": 313
        },
        "id": "loT0iM9D9Jgd",
        "outputId": "cb05a383-ff09-4dd4-d96b-ebe469ca9122"
      },
      "source": [
        "#Ver casos mais recentes de países com mais casos e mortes.\n",
        "df.loc[df.date == separar[1]].sort_values(by=\"total_cases\", ascending=False)[6:11]\n",
        "df.loc[df.date == separar[1]].sort_values(by=\"total_deaths\", ascending=False)[6:11]"
      ],
      "execution_count": null,
      "outputs": [
        {
          "output_type": "execute_result",
          "data": {
            "text/html": [
              "<div>\n",
              "<style scoped>\n",
              "    .dataframe tbody tr th:only-of-type {\n",
              "        vertical-align: middle;\n",
              "    }\n",
              "\n",
              "    .dataframe tbody tr th {\n",
              "        vertical-align: top;\n",
              "    }\n",
              "\n",
              "    .dataframe thead th {\n",
              "        text-align: right;\n",
              "    }\n",
              "</style>\n",
              "<table border=\"1\" class=\"dataframe\">\n",
              "  <thead>\n",
              "    <tr style=\"text-align: right;\">\n",
              "      <th></th>\n",
              "      <th>iso_code</th>\n",
              "      <th>continent</th>\n",
              "      <th>location</th>\n",
              "      <th>date</th>\n",
              "      <th>total_cases</th>\n",
              "      <th>new_cases</th>\n",
              "      <th>new_cases_smoothed</th>\n",
              "      <th>total_deaths</th>\n",
              "      <th>new_deaths</th>\n",
              "      <th>new_deaths_smoothed</th>\n",
              "      <th>total_cases_per_million</th>\n",
              "      <th>new_cases_per_million</th>\n",
              "      <th>new_cases_smoothed_per_million</th>\n",
              "      <th>total_deaths_per_million</th>\n",
              "      <th>new_deaths_per_million</th>\n",
              "      <th>new_deaths_smoothed_per_million</th>\n",
              "      <th>reproduction_rate</th>\n",
              "      <th>icu_patients</th>\n",
              "      <th>icu_patients_per_million</th>\n",
              "      <th>hosp_patients</th>\n",
              "      <th>hosp_patients_per_million</th>\n",
              "      <th>weekly_icu_admissions</th>\n",
              "      <th>weekly_icu_admissions_per_million</th>\n",
              "      <th>weekly_hosp_admissions</th>\n",
              "      <th>weekly_hosp_admissions_per_million</th>\n",
              "      <th>new_tests</th>\n",
              "      <th>total_tests</th>\n",
              "      <th>total_tests_per_thousand</th>\n",
              "      <th>new_tests_per_thousand</th>\n",
              "      <th>new_tests_smoothed</th>\n",
              "      <th>new_tests_smoothed_per_thousand</th>\n",
              "      <th>positive_rate</th>\n",
              "      <th>tests_per_case</th>\n",
              "      <th>tests_units</th>\n",
              "      <th>total_vaccinations</th>\n",
              "      <th>people_vaccinated</th>\n",
              "      <th>people_fully_vaccinated</th>\n",
              "      <th>total_boosters</th>\n",
              "      <th>new_vaccinations</th>\n",
              "      <th>new_vaccinations_smoothed</th>\n",
              "      <th>total_vaccinations_per_hundred</th>\n",
              "      <th>people_vaccinated_per_hundred</th>\n",
              "      <th>people_fully_vaccinated_per_hundred</th>\n",
              "      <th>total_boosters_per_hundred</th>\n",
              "      <th>new_vaccinations_smoothed_per_million</th>\n",
              "      <th>stringency_index</th>\n",
              "      <th>population</th>\n",
              "      <th>population_density</th>\n",
              "      <th>median_age</th>\n",
              "      <th>aged_65_older</th>\n",
              "      <th>aged_70_older</th>\n",
              "      <th>gdp_per_capita</th>\n",
              "      <th>extreme_poverty</th>\n",
              "      <th>cardiovasc_death_rate</th>\n",
              "      <th>diabetes_prevalence</th>\n",
              "      <th>female_smokers</th>\n",
              "      <th>male_smokers</th>\n",
              "      <th>handwashing_facilities</th>\n",
              "      <th>hospital_beds_per_thousand</th>\n",
              "      <th>life_expectancy</th>\n",
              "      <th>human_development_index</th>\n",
              "      <th>excess_mortality_cumulative_absolute</th>\n",
              "      <th>excess_mortality_cumulative</th>\n",
              "      <th>excess_mortality</th>\n",
              "      <th>excess_mortality_cumulative_per_million</th>\n",
              "    </tr>\n",
              "  </thead>\n",
              "  <tbody>\n",
              "    <tr>\n",
              "      <th>114247</th>\n",
              "      <td>USA</td>\n",
              "      <td>North America</td>\n",
              "      <td>United States</td>\n",
              "      <td>2021-09-28</td>\n",
              "      <td>43227604.0</td>\n",
              "      <td>111162.0</td>\n",
              "      <td>115782.857</td>\n",
              "      <td>692583.0</td>\n",
              "      <td>2157.0</td>\n",
              "      <td>1993.143</td>\n",
              "      <td>129845.740</td>\n",
              "      <td>333.905</td>\n",
              "      <td>347.785</td>\n",
              "      <td>2080.359</td>\n",
              "      <td>6.479</td>\n",
              "      <td>5.987</td>\n",
              "      <td>NaN</td>\n",
              "      <td>21201.0</td>\n",
              "      <td>63.683</td>\n",
              "      <td>73624.0</td>\n",
              "      <td>221.149</td>\n",
              "      <td>NaN</td>\n",
              "      <td>NaN</td>\n",
              "      <td>NaN</td>\n",
              "      <td>NaN</td>\n",
              "      <td>NaN</td>\n",
              "      <td>NaN</td>\n",
              "      <td>NaN</td>\n",
              "      <td>NaN</td>\n",
              "      <td>NaN</td>\n",
              "      <td>NaN</td>\n",
              "      <td>NaN</td>\n",
              "      <td>NaN</td>\n",
              "      <td>NaN</td>\n",
              "      <td>391152574.0</td>\n",
              "      <td>213752856.0</td>\n",
              "      <td>185265610.0</td>\n",
              "      <td>3399837.0</td>\n",
              "      <td>487651.0</td>\n",
              "      <td>624537.0</td>\n",
              "      <td>116.30</td>\n",
              "      <td>63.56</td>\n",
              "      <td>55.09</td>\n",
              "      <td>1.01</td>\n",
              "      <td>1857.0</td>\n",
              "      <td>61.57</td>\n",
              "      <td>3.329151e+08</td>\n",
              "      <td>35.608</td>\n",
              "      <td>38.3</td>\n",
              "      <td>15.413</td>\n",
              "      <td>9.732</td>\n",
              "      <td>54225.446</td>\n",
              "      <td>1.2</td>\n",
              "      <td>151.089</td>\n",
              "      <td>10.79</td>\n",
              "      <td>19.1</td>\n",
              "      <td>24.6</td>\n",
              "      <td>NaN</td>\n",
              "      <td>2.77</td>\n",
              "      <td>78.86</td>\n",
              "      <td>0.926</td>\n",
              "      <td>NaN</td>\n",
              "      <td>NaN</td>\n",
              "      <td>NaN</td>\n",
              "      <td>NaN</td>\n",
              "    </tr>\n",
              "    <tr>\n",
              "      <th>15882</th>\n",
              "      <td>BRA</td>\n",
              "      <td>South America</td>\n",
              "      <td>Brazil</td>\n",
              "      <td>2021-09-28</td>\n",
              "      <td>21381790.0</td>\n",
              "      <td>15395.0</td>\n",
              "      <td>19242.286</td>\n",
              "      <td>595446.0</td>\n",
              "      <td>793.0</td>\n",
              "      <td>572.286</td>\n",
              "      <td>99917.969</td>\n",
              "      <td>71.941</td>\n",
              "      <td>89.920</td>\n",
              "      <td>2782.543</td>\n",
              "      <td>3.706</td>\n",
              "      <td>2.674</td>\n",
              "      <td>NaN</td>\n",
              "      <td>NaN</td>\n",
              "      <td>NaN</td>\n",
              "      <td>NaN</td>\n",
              "      <td>NaN</td>\n",
              "      <td>NaN</td>\n",
              "      <td>NaN</td>\n",
              "      <td>NaN</td>\n",
              "      <td>NaN</td>\n",
              "      <td>NaN</td>\n",
              "      <td>NaN</td>\n",
              "      <td>NaN</td>\n",
              "      <td>NaN</td>\n",
              "      <td>NaN</td>\n",
              "      <td>NaN</td>\n",
              "      <td>NaN</td>\n",
              "      <td>NaN</td>\n",
              "      <td>NaN</td>\n",
              "      <td>234674906.0</td>\n",
              "      <td>150269515.0</td>\n",
              "      <td>88983740.0</td>\n",
              "      <td>NaN</td>\n",
              "      <td>1412943.0</td>\n",
              "      <td>1396215.0</td>\n",
              "      <td>109.66</td>\n",
              "      <td>70.22</td>\n",
              "      <td>41.58</td>\n",
              "      <td>NaN</td>\n",
              "      <td>6525.0</td>\n",
              "      <td>NaN</td>\n",
              "      <td>2.139934e+08</td>\n",
              "      <td>25.040</td>\n",
              "      <td>33.5</td>\n",
              "      <td>8.552</td>\n",
              "      <td>5.060</td>\n",
              "      <td>14103.452</td>\n",
              "      <td>3.4</td>\n",
              "      <td>177.961</td>\n",
              "      <td>8.11</td>\n",
              "      <td>10.1</td>\n",
              "      <td>17.9</td>\n",
              "      <td>NaN</td>\n",
              "      <td>2.20</td>\n",
              "      <td>75.88</td>\n",
              "      <td>0.765</td>\n",
              "      <td>NaN</td>\n",
              "      <td>NaN</td>\n",
              "      <td>NaN</td>\n",
              "      <td>NaN</td>\n",
              "    </tr>\n",
              "    <tr>\n",
              "      <th>50207</th>\n",
              "      <td>IND</td>\n",
              "      <td>Asia</td>\n",
              "      <td>India</td>\n",
              "      <td>2021-09-28</td>\n",
              "      <td>33716451.0</td>\n",
              "      <td>18870.0</td>\n",
              "      <td>26421.857</td>\n",
              "      <td>447751.0</td>\n",
              "      <td>378.0</td>\n",
              "      <td>283.286</td>\n",
              "      <td>24197.095</td>\n",
              "      <td>13.542</td>\n",
              "      <td>18.962</td>\n",
              "      <td>321.335</td>\n",
              "      <td>0.271</td>\n",
              "      <td>0.203</td>\n",
              "      <td>NaN</td>\n",
              "      <td>NaN</td>\n",
              "      <td>NaN</td>\n",
              "      <td>NaN</td>\n",
              "      <td>NaN</td>\n",
              "      <td>NaN</td>\n",
              "      <td>NaN</td>\n",
              "      <td>NaN</td>\n",
              "      <td>NaN</td>\n",
              "      <td>1321780.0</td>\n",
              "      <td>565730031.0</td>\n",
              "      <td>406.004</td>\n",
              "      <td>0.949</td>\n",
              "      <td>1527759.0</td>\n",
              "      <td>1.096</td>\n",
              "      <td>NaN</td>\n",
              "      <td>NaN</td>\n",
              "      <td>samples tested</td>\n",
              "      <td>873244661.0</td>\n",
              "      <td>641845931.0</td>\n",
              "      <td>231398730.0</td>\n",
              "      <td>NaN</td>\n",
              "      <td>4470545.0</td>\n",
              "      <td>7344057.0</td>\n",
              "      <td>62.67</td>\n",
              "      <td>46.06</td>\n",
              "      <td>16.61</td>\n",
              "      <td>NaN</td>\n",
              "      <td>5271.0</td>\n",
              "      <td>NaN</td>\n",
              "      <td>1.393409e+09</td>\n",
              "      <td>450.419</td>\n",
              "      <td>28.2</td>\n",
              "      <td>5.989</td>\n",
              "      <td>3.414</td>\n",
              "      <td>6426.674</td>\n",
              "      <td>21.2</td>\n",
              "      <td>282.280</td>\n",
              "      <td>10.39</td>\n",
              "      <td>1.9</td>\n",
              "      <td>20.6</td>\n",
              "      <td>59.550</td>\n",
              "      <td>0.53</td>\n",
              "      <td>69.66</td>\n",
              "      <td>0.645</td>\n",
              "      <td>NaN</td>\n",
              "      <td>NaN</td>\n",
              "      <td>NaN</td>\n",
              "      <td>NaN</td>\n",
              "    </tr>\n",
              "    <tr>\n",
              "      <th>70344</th>\n",
              "      <td>MEX</td>\n",
              "      <td>North America</td>\n",
              "      <td>Mexico</td>\n",
              "      <td>2021-09-28</td>\n",
              "      <td>3645599.0</td>\n",
              "      <td>9792.0</td>\n",
              "      <td>8576.286</td>\n",
              "      <td>276376.0</td>\n",
              "      <td>700.0</td>\n",
              "      <td>542.286</td>\n",
              "      <td>27986.618</td>\n",
              "      <td>75.171</td>\n",
              "      <td>65.839</td>\n",
              "      <td>2121.690</td>\n",
              "      <td>5.374</td>\n",
              "      <td>4.163</td>\n",
              "      <td>NaN</td>\n",
              "      <td>NaN</td>\n",
              "      <td>NaN</td>\n",
              "      <td>NaN</td>\n",
              "      <td>NaN</td>\n",
              "      <td>NaN</td>\n",
              "      <td>NaN</td>\n",
              "      <td>NaN</td>\n",
              "      <td>NaN</td>\n",
              "      <td>NaN</td>\n",
              "      <td>NaN</td>\n",
              "      <td>NaN</td>\n",
              "      <td>NaN</td>\n",
              "      <td>NaN</td>\n",
              "      <td>NaN</td>\n",
              "      <td>NaN</td>\n",
              "      <td>NaN</td>\n",
              "      <td>NaN</td>\n",
              "      <td>NaN</td>\n",
              "      <td>NaN</td>\n",
              "      <td>NaN</td>\n",
              "      <td>NaN</td>\n",
              "      <td>NaN</td>\n",
              "      <td>NaN</td>\n",
              "      <td>NaN</td>\n",
              "      <td>NaN</td>\n",
              "      <td>NaN</td>\n",
              "      <td>NaN</td>\n",
              "      <td>NaN</td>\n",
              "      <td>NaN</td>\n",
              "      <td>1.302622e+08</td>\n",
              "      <td>66.444</td>\n",
              "      <td>29.3</td>\n",
              "      <td>6.857</td>\n",
              "      <td>4.321</td>\n",
              "      <td>17336.469</td>\n",
              "      <td>2.5</td>\n",
              "      <td>152.783</td>\n",
              "      <td>13.06</td>\n",
              "      <td>6.9</td>\n",
              "      <td>21.4</td>\n",
              "      <td>87.847</td>\n",
              "      <td>1.38</td>\n",
              "      <td>75.05</td>\n",
              "      <td>0.779</td>\n",
              "      <td>NaN</td>\n",
              "      <td>NaN</td>\n",
              "      <td>NaN</td>\n",
              "      <td>NaN</td>\n",
              "    </tr>\n",
              "    <tr>\n",
              "      <th>1176</th>\n",
              "      <td>OWID_AFR</td>\n",
              "      <td>NaN</td>\n",
              "      <td>Africa</td>\n",
              "      <td>2021-09-28</td>\n",
              "      <td>8256838.0</td>\n",
              "      <td>8775.0</td>\n",
              "      <td>10906.000</td>\n",
              "      <td>209598.0</td>\n",
              "      <td>388.0</td>\n",
              "      <td>407.714</td>\n",
              "      <td>6011.590</td>\n",
              "      <td>6.389</td>\n",
              "      <td>7.940</td>\n",
              "      <td>152.603</td>\n",
              "      <td>0.282</td>\n",
              "      <td>0.297</td>\n",
              "      <td>NaN</td>\n",
              "      <td>NaN</td>\n",
              "      <td>NaN</td>\n",
              "      <td>NaN</td>\n",
              "      <td>NaN</td>\n",
              "      <td>NaN</td>\n",
              "      <td>NaN</td>\n",
              "      <td>NaN</td>\n",
              "      <td>NaN</td>\n",
              "      <td>NaN</td>\n",
              "      <td>NaN</td>\n",
              "      <td>NaN</td>\n",
              "      <td>NaN</td>\n",
              "      <td>NaN</td>\n",
              "      <td>NaN</td>\n",
              "      <td>NaN</td>\n",
              "      <td>NaN</td>\n",
              "      <td>NaN</td>\n",
              "      <td>149491085.0</td>\n",
              "      <td>90717622.0</td>\n",
              "      <td>58892007.0</td>\n",
              "      <td>NaN</td>\n",
              "      <td>55228.0</td>\n",
              "      <td>1971333.0</td>\n",
              "      <td>10.88</td>\n",
              "      <td>6.60</td>\n",
              "      <td>4.29</td>\n",
              "      <td>NaN</td>\n",
              "      <td>1435.0</td>\n",
              "      <td>NaN</td>\n",
              "      <td>1.373486e+09</td>\n",
              "      <td>NaN</td>\n",
              "      <td>NaN</td>\n",
              "      <td>NaN</td>\n",
              "      <td>NaN</td>\n",
              "      <td>NaN</td>\n",
              "      <td>NaN</td>\n",
              "      <td>NaN</td>\n",
              "      <td>NaN</td>\n",
              "      <td>NaN</td>\n",
              "      <td>NaN</td>\n",
              "      <td>NaN</td>\n",
              "      <td>NaN</td>\n",
              "      <td>NaN</td>\n",
              "      <td>NaN</td>\n",
              "      <td>NaN</td>\n",
              "      <td>NaN</td>\n",
              "      <td>NaN</td>\n",
              "      <td>NaN</td>\n",
              "    </tr>\n",
              "  </tbody>\n",
              "</table>\n",
              "</div>"
            ],
            "text/plain": [
              "        iso_code  ... excess_mortality_cumulative_per_million\n",
              "114247       USA  ...                                     NaN\n",
              "15882        BRA  ...                                     NaN\n",
              "50207        IND  ...                                     NaN\n",
              "70344        MEX  ...                                     NaN\n",
              "1176    OWID_AFR  ...                                     NaN\n",
              "\n",
              "[5 rows x 65 columns]"
            ]
          },
          "metadata": {},
          "execution_count": 10
        }
      ]
    },
    {
      "cell_type": "code",
      "metadata": {
        "colab": {
          "base_uri": "https://localhost:8080/",
          "height": 441
        },
        "id": "MpWA9U3IJzPy",
        "outputId": "2fea670a-35a1-4db6-b765-9a64202c7608"
      },
      "source": [
        "#Plot do gráfico de linhas com o total de casos\n",
        "top5_deaths = df.loc[df.date == separar[1], ['location', 'total_deaths']].sort_values(by=\"total_deaths\", ascending=False)[6:11]\n",
        "fig, ax = plt.subplots(figsize=(10,6))\n",
        "top5_deaths.plot(x=\"location\", y=\"total_deaths\", kind=\"bar\", ax=ax)\n",
        "\n",
        "ax.set_title(\"Top 5 países com mais mortes\")\n",
        "ax.set_xlabel(\"Países\")\n",
        "ax.set_ylabel(\"Quantidade de Mortes\")\n",
        "\n",
        "plt.tight_layout()"
      ],
      "execution_count": null,
      "outputs": [
        {
          "output_type": "display_data",
          "data": {
            "image/png": "[encoded data removed]",
            "text/plain": [
              "<Figure size 720x432 with 1 Axes>"
            ]
          },
          "metadata": {
            "needs_background": "light"
          }
        }
      ]
    },
    {
      "cell_type": "markdown",
      "metadata": {
        "id": "tdfPKwigtdha"
      },
      "source": [
        "No gráfico acima é possível observar que o país com mais mortes por COVID é o Estados Unidos, mas será que é possível descobrirmos o motivo disso através das informações que possuimos neste dataset?"
      ]
    },
    {
      "cell_type": "markdown",
      "metadata": {
        "id": "ZiYY_SFmuvFc"
      },
      "source": [
        "#Q2 - Como foi a evolução do COVID-19 no mundo?\n",
        "\n"
      ]
    },
    {
      "cell_type": "code",
      "metadata": {
        "colab": {
          "base_uri": "https://localhost:8080/",
          "height": 441
        },
        "id": "aXTjUjxNudr8",
        "outputId": "66527811-ce12-454d-cd91-3f0a3f69546e"
      },
      "source": [
        "fig, ax = plt.subplots(figsize=(10,6))\n",
        "df_3 = df.loc[df.location == 'World', 'total_cases'].reset_index(drop=True).plot(kind='line', ax=ax)\n",
        "ax.set_title(\"Evolução do total de casos de COVID-19 no mundo\")\n",
        "ax.set_xlabel('Número de Dias')\n",
        "ax.set_ylabel('Quantidade de Casos')\n",
        "plt.tight_layout()"
      ],
      "execution_count": null,
      "outputs": [
        {
          "output_type": "display_data",
          "data": {
            "image/png": "[encoded data removed]",
            "text/plain": [
              "<Figure size 720x432 with 1 Axes>"
            ]
          },
          "metadata": {
            "needs_background": "light"
          }
        }
      ]
    },
    {
      "cell_type": "markdown",
      "metadata": {
        "id": "oJKOlx5MDcru"
      },
      "source": [
        "---\n",
        "#Análise Exploratória no Brasil"
      ]
    },
    {
      "cell_type": "markdown",
      "metadata": {
        "id": "LuwidWa_Ei4v"
      },
      "source": [
        "#Q3 - Quando foi registrada a primeira morte no Brasil?"
      ]
    },
    {
      "cell_type": "code",
      "metadata": {
        "colab": {
          "base_uri": "https://localhost:8080/",
          "height": 330
        },
        "id": "eGORe_cvDkpZ",
        "outputId": "27f9b98c-73f8-4fa1-bd8b-dbffe0820c26"
      },
      "source": [
        "#Criar cópia do DataFrame apenas com informações sobre o Brasil\n",
        "df_brasil = df.loc[df.location == 'Brazil'].copy()\n",
        "\n",
        "#Indentificar quando foi registrada a primeira morte no Brasil\n",
        "data_atualizada1 = df_brasil.loc[df_brasil.total_deaths==1, 'date']\n",
        "df_str1 = pd.Series.to_string(data_atualizada1)\n",
        "separar1 = df_str1.split()\n",
        "print(f'A primeira morte no Brasil foi registrada em: {separar1[1]}')\n",
        "df_brasil.tail()"
      ],
      "execution_count": null,
      "outputs": [
        {
          "output_type": "stream",
          "name": "stdout",
          "text": [
            "A primeira morte no Brasil foi registrada em: 2020-03-17\n"
          ]
        },
        {
          "output_type": "execute_result",
          "data": {
            "text/html": [
              "<div>\n",
              "<style scoped>\n",
              "    .dataframe tbody tr th:only-of-type {\n",
              "        vertical-align: middle;\n",
              "    }\n",
              "\n",
              "    .dataframe tbody tr th {\n",
              "        vertical-align: top;\n",
              "    }\n",
              "\n",
              "    .dataframe thead th {\n",
              "        text-align: right;\n",
              "    }\n",
              "</style>\n",
              "<table border=\"1\" class=\"dataframe\">\n",
              "  <thead>\n",
              "    <tr style=\"text-align: right;\">\n",
              "      <th></th>\n",
              "      <th>iso_code</th>\n",
              "      <th>continent</th>\n",
              "      <th>location</th>\n",
              "      <th>date</th>\n",
              "      <th>total_cases</th>\n",
              "      <th>new_cases</th>\n",
              "      <th>new_cases_smoothed</th>\n",
              "      <th>total_deaths</th>\n",
              "      <th>new_deaths</th>\n",
              "      <th>new_deaths_smoothed</th>\n",
              "      <th>total_cases_per_million</th>\n",
              "      <th>new_cases_per_million</th>\n",
              "      <th>new_cases_smoothed_per_million</th>\n",
              "      <th>total_deaths_per_million</th>\n",
              "      <th>new_deaths_per_million</th>\n",
              "      <th>new_deaths_smoothed_per_million</th>\n",
              "      <th>reproduction_rate</th>\n",
              "      <th>icu_patients</th>\n",
              "      <th>icu_patients_per_million</th>\n",
              "      <th>hosp_patients</th>\n",
              "      <th>hosp_patients_per_million</th>\n",
              "      <th>weekly_icu_admissions</th>\n",
              "      <th>weekly_icu_admissions_per_million</th>\n",
              "      <th>weekly_hosp_admissions</th>\n",
              "      <th>weekly_hosp_admissions_per_million</th>\n",
              "      <th>new_tests</th>\n",
              "      <th>total_tests</th>\n",
              "      <th>total_tests_per_thousand</th>\n",
              "      <th>new_tests_per_thousand</th>\n",
              "      <th>new_tests_smoothed</th>\n",
              "      <th>new_tests_smoothed_per_thousand</th>\n",
              "      <th>positive_rate</th>\n",
              "      <th>tests_per_case</th>\n",
              "      <th>tests_units</th>\n",
              "      <th>total_vaccinations</th>\n",
              "      <th>people_vaccinated</th>\n",
              "      <th>people_fully_vaccinated</th>\n",
              "      <th>total_boosters</th>\n",
              "      <th>new_vaccinations</th>\n",
              "      <th>new_vaccinations_smoothed</th>\n",
              "      <th>total_vaccinations_per_hundred</th>\n",
              "      <th>people_vaccinated_per_hundred</th>\n",
              "      <th>people_fully_vaccinated_per_hundred</th>\n",
              "      <th>total_boosters_per_hundred</th>\n",
              "      <th>new_vaccinations_smoothed_per_million</th>\n",
              "      <th>stringency_index</th>\n",
              "      <th>population</th>\n",
              "      <th>population_density</th>\n",
              "      <th>median_age</th>\n",
              "      <th>aged_65_older</th>\n",
              "      <th>aged_70_older</th>\n",
              "      <th>gdp_per_capita</th>\n",
              "      <th>extreme_poverty</th>\n",
              "      <th>cardiovasc_death_rate</th>\n",
              "      <th>diabetes_prevalence</th>\n",
              "      <th>female_smokers</th>\n",
              "      <th>male_smokers</th>\n",
              "      <th>handwashing_facilities</th>\n",
              "      <th>hospital_beds_per_thousand</th>\n",
              "      <th>life_expectancy</th>\n",
              "      <th>human_development_index</th>\n",
              "      <th>excess_mortality_cumulative_absolute</th>\n",
              "      <th>excess_mortality_cumulative</th>\n",
              "      <th>excess_mortality</th>\n",
              "      <th>excess_mortality_cumulative_per_million</th>\n",
              "    </tr>\n",
              "  </thead>\n",
              "  <tbody>\n",
              "    <tr>\n",
              "      <th>15878</th>\n",
              "      <td>BRA</td>\n",
              "      <td>South America</td>\n",
              "      <td>Brazil</td>\n",
              "      <td>2021-09-24</td>\n",
              "      <td>21327616.0</td>\n",
              "      <td>19438.0</td>\n",
              "      <td>35342.429</td>\n",
              "      <td>593663.0</td>\n",
              "      <td>699.0</td>\n",
              "      <td>584.286</td>\n",
              "      <td>99664.812</td>\n",
              "      <td>90.835</td>\n",
              "      <td>165.157</td>\n",
              "      <td>2774.211</td>\n",
              "      <td>3.266</td>\n",
              "      <td>2.730</td>\n",
              "      <td>1.12</td>\n",
              "      <td>NaN</td>\n",
              "      <td>NaN</td>\n",
              "      <td>NaN</td>\n",
              "      <td>NaN</td>\n",
              "      <td>NaN</td>\n",
              "      <td>NaN</td>\n",
              "      <td>NaN</td>\n",
              "      <td>NaN</td>\n",
              "      <td>NaN</td>\n",
              "      <td>NaN</td>\n",
              "      <td>NaN</td>\n",
              "      <td>NaN</td>\n",
              "      <td>NaN</td>\n",
              "      <td>NaN</td>\n",
              "      <td>NaN</td>\n",
              "      <td>NaN</td>\n",
              "      <td>NaN</td>\n",
              "      <td>NaN</td>\n",
              "      <td>NaN</td>\n",
              "      <td>NaN</td>\n",
              "      <td>NaN</td>\n",
              "      <td>NaN</td>\n",
              "      <td>1457765.0</td>\n",
              "      <td>NaN</td>\n",
              "      <td>NaN</td>\n",
              "      <td>NaN</td>\n",
              "      <td>NaN</td>\n",
              "      <td>6812.0</td>\n",
              "      <td>NaN</td>\n",
              "      <td>213993441.0</td>\n",
              "      <td>25.04</td>\n",
              "      <td>33.5</td>\n",
              "      <td>8.552</td>\n",
              "      <td>5.06</td>\n",
              "      <td>14103.452</td>\n",
              "      <td>3.4</td>\n",
              "      <td>177.961</td>\n",
              "      <td>8.11</td>\n",
              "      <td>10.1</td>\n",
              "      <td>17.9</td>\n",
              "      <td>NaN</td>\n",
              "      <td>2.2</td>\n",
              "      <td>75.88</td>\n",
              "      <td>0.765</td>\n",
              "      <td>NaN</td>\n",
              "      <td>NaN</td>\n",
              "      <td>NaN</td>\n",
              "      <td>NaN</td>\n",
              "    </tr>\n",
              "    <tr>\n",
              "      <th>15879</th>\n",
              "      <td>BRA</td>\n",
              "      <td>South America</td>\n",
              "      <td>Brazil</td>\n",
              "      <td>2021-09-25</td>\n",
              "      <td>21343304.0</td>\n",
              "      <td>15688.0</td>\n",
              "      <td>16139.857</td>\n",
              "      <td>594200.0</td>\n",
              "      <td>537.0</td>\n",
              "      <td>527.429</td>\n",
              "      <td>99738.122</td>\n",
              "      <td>73.311</td>\n",
              "      <td>75.422</td>\n",
              "      <td>2776.721</td>\n",
              "      <td>2.509</td>\n",
              "      <td>2.465</td>\n",
              "      <td>1.10</td>\n",
              "      <td>NaN</td>\n",
              "      <td>NaN</td>\n",
              "      <td>NaN</td>\n",
              "      <td>NaN</td>\n",
              "      <td>NaN</td>\n",
              "      <td>NaN</td>\n",
              "      <td>NaN</td>\n",
              "      <td>NaN</td>\n",
              "      <td>NaN</td>\n",
              "      <td>NaN</td>\n",
              "      <td>NaN</td>\n",
              "      <td>NaN</td>\n",
              "      <td>NaN</td>\n",
              "      <td>NaN</td>\n",
              "      <td>NaN</td>\n",
              "      <td>NaN</td>\n",
              "      <td>NaN</td>\n",
              "      <td>230477848.0</td>\n",
              "      <td>148959378.0</td>\n",
              "      <td>86085238.0</td>\n",
              "      <td>NaN</td>\n",
              "      <td>NaN</td>\n",
              "      <td>1411550.0</td>\n",
              "      <td>107.70</td>\n",
              "      <td>69.61</td>\n",
              "      <td>40.23</td>\n",
              "      <td>NaN</td>\n",
              "      <td>6596.0</td>\n",
              "      <td>NaN</td>\n",
              "      <td>213993441.0</td>\n",
              "      <td>25.04</td>\n",
              "      <td>33.5</td>\n",
              "      <td>8.552</td>\n",
              "      <td>5.06</td>\n",
              "      <td>14103.452</td>\n",
              "      <td>3.4</td>\n",
              "      <td>177.961</td>\n",
              "      <td>8.11</td>\n",
              "      <td>10.1</td>\n",
              "      <td>17.9</td>\n",
              "      <td>NaN</td>\n",
              "      <td>2.2</td>\n",
              "      <td>75.88</td>\n",
              "      <td>0.765</td>\n",
              "      <td>NaN</td>\n",
              "      <td>NaN</td>\n",
              "      <td>NaN</td>\n",
              "      <td>NaN</td>\n",
              "    </tr>\n",
              "    <tr>\n",
              "      <th>15880</th>\n",
              "      <td>BRA</td>\n",
              "      <td>South America</td>\n",
              "      <td>Brazil</td>\n",
              "      <td>2021-09-26</td>\n",
              "      <td>21351972.0</td>\n",
              "      <td>8668.0</td>\n",
              "      <td>16027.000</td>\n",
              "      <td>594443.0</td>\n",
              "      <td>243.0</td>\n",
              "      <td>527.286</td>\n",
              "      <td>99778.628</td>\n",
              "      <td>40.506</td>\n",
              "      <td>74.895</td>\n",
              "      <td>2777.856</td>\n",
              "      <td>1.136</td>\n",
              "      <td>2.464</td>\n",
              "      <td>1.10</td>\n",
              "      <td>NaN</td>\n",
              "      <td>NaN</td>\n",
              "      <td>NaN</td>\n",
              "      <td>NaN</td>\n",
              "      <td>NaN</td>\n",
              "      <td>NaN</td>\n",
              "      <td>NaN</td>\n",
              "      <td>NaN</td>\n",
              "      <td>NaN</td>\n",
              "      <td>NaN</td>\n",
              "      <td>NaN</td>\n",
              "      <td>NaN</td>\n",
              "      <td>NaN</td>\n",
              "      <td>NaN</td>\n",
              "      <td>NaN</td>\n",
              "      <td>NaN</td>\n",
              "      <td>NaN</td>\n",
              "      <td>231844536.0</td>\n",
              "      <td>149349669.0</td>\n",
              "      <td>87063618.0</td>\n",
              "      <td>NaN</td>\n",
              "      <td>1366688.0</td>\n",
              "      <td>1360269.0</td>\n",
              "      <td>108.34</td>\n",
              "      <td>69.79</td>\n",
              "      <td>40.69</td>\n",
              "      <td>NaN</td>\n",
              "      <td>6357.0</td>\n",
              "      <td>NaN</td>\n",
              "      <td>213993441.0</td>\n",
              "      <td>25.04</td>\n",
              "      <td>33.5</td>\n",
              "      <td>8.552</td>\n",
              "      <td>5.06</td>\n",
              "      <td>14103.452</td>\n",
              "      <td>3.4</td>\n",
              "      <td>177.961</td>\n",
              "      <td>8.11</td>\n",
              "      <td>10.1</td>\n",
              "      <td>17.9</td>\n",
              "      <td>NaN</td>\n",
              "      <td>2.2</td>\n",
              "      <td>75.88</td>\n",
              "      <td>0.765</td>\n",
              "      <td>NaN</td>\n",
              "      <td>NaN</td>\n",
              "      <td>NaN</td>\n",
              "      <td>NaN</td>\n",
              "    </tr>\n",
              "    <tr>\n",
              "      <th>15881</th>\n",
              "      <td>BRA</td>\n",
              "      <td>South America</td>\n",
              "      <td>Brazil</td>\n",
              "      <td>2021-09-27</td>\n",
              "      <td>21366395.0</td>\n",
              "      <td>14423.0</td>\n",
              "      <td>16961.143</td>\n",
              "      <td>594653.0</td>\n",
              "      <td>210.0</td>\n",
              "      <td>528.286</td>\n",
              "      <td>99846.028</td>\n",
              "      <td>67.399</td>\n",
              "      <td>79.260</td>\n",
              "      <td>2778.838</td>\n",
              "      <td>0.981</td>\n",
              "      <td>2.469</td>\n",
              "      <td>NaN</td>\n",
              "      <td>NaN</td>\n",
              "      <td>NaN</td>\n",
              "      <td>NaN</td>\n",
              "      <td>NaN</td>\n",
              "      <td>NaN</td>\n",
              "      <td>NaN</td>\n",
              "      <td>NaN</td>\n",
              "      <td>NaN</td>\n",
              "      <td>NaN</td>\n",
              "      <td>NaN</td>\n",
              "      <td>NaN</td>\n",
              "      <td>NaN</td>\n",
              "      <td>NaN</td>\n",
              "      <td>NaN</td>\n",
              "      <td>NaN</td>\n",
              "      <td>NaN</td>\n",
              "      <td>NaN</td>\n",
              "      <td>233261963.0</td>\n",
              "      <td>149841174.0</td>\n",
              "      <td>87994741.0</td>\n",
              "      <td>NaN</td>\n",
              "      <td>1417427.0</td>\n",
              "      <td>1540467.0</td>\n",
              "      <td>109.00</td>\n",
              "      <td>70.02</td>\n",
              "      <td>41.12</td>\n",
              "      <td>NaN</td>\n",
              "      <td>7199.0</td>\n",
              "      <td>NaN</td>\n",
              "      <td>213993441.0</td>\n",
              "      <td>25.04</td>\n",
              "      <td>33.5</td>\n",
              "      <td>8.552</td>\n",
              "      <td>5.06</td>\n",
              "      <td>14103.452</td>\n",
              "      <td>3.4</td>\n",
              "      <td>177.961</td>\n",
              "      <td>8.11</td>\n",
              "      <td>10.1</td>\n",
              "      <td>17.9</td>\n",
              "      <td>NaN</td>\n",
              "      <td>2.2</td>\n",
              "      <td>75.88</td>\n",
              "      <td>0.765</td>\n",
              "      <td>NaN</td>\n",
              "      <td>NaN</td>\n",
              "      <td>NaN</td>\n",
              "      <td>NaN</td>\n",
              "    </tr>\n",
              "    <tr>\n",
              "      <th>15882</th>\n",
              "      <td>BRA</td>\n",
              "      <td>South America</td>\n",
              "      <td>Brazil</td>\n",
              "      <td>2021-09-28</td>\n",
              "      <td>21381790.0</td>\n",
              "      <td>15395.0</td>\n",
              "      <td>19242.286</td>\n",
              "      <td>595446.0</td>\n",
              "      <td>793.0</td>\n",
              "      <td>572.286</td>\n",
              "      <td>99917.969</td>\n",
              "      <td>71.941</td>\n",
              "      <td>89.920</td>\n",
              "      <td>2782.543</td>\n",
              "      <td>3.706</td>\n",
              "      <td>2.674</td>\n",
              "      <td>NaN</td>\n",
              "      <td>NaN</td>\n",
              "      <td>NaN</td>\n",
              "      <td>NaN</td>\n",
              "      <td>NaN</td>\n",
              "      <td>NaN</td>\n",
              "      <td>NaN</td>\n",
              "      <td>NaN</td>\n",
              "      <td>NaN</td>\n",
              "      <td>NaN</td>\n",
              "      <td>NaN</td>\n",
              "      <td>NaN</td>\n",
              "      <td>NaN</td>\n",
              "      <td>NaN</td>\n",
              "      <td>NaN</td>\n",
              "      <td>NaN</td>\n",
              "      <td>NaN</td>\n",
              "      <td>NaN</td>\n",
              "      <td>234674906.0</td>\n",
              "      <td>150269515.0</td>\n",
              "      <td>88983740.0</td>\n",
              "      <td>NaN</td>\n",
              "      <td>1412943.0</td>\n",
              "      <td>1396215.0</td>\n",
              "      <td>109.66</td>\n",
              "      <td>70.22</td>\n",
              "      <td>41.58</td>\n",
              "      <td>NaN</td>\n",
              "      <td>6525.0</td>\n",
              "      <td>NaN</td>\n",
              "      <td>213993441.0</td>\n",
              "      <td>25.04</td>\n",
              "      <td>33.5</td>\n",
              "      <td>8.552</td>\n",
              "      <td>5.06</td>\n",
              "      <td>14103.452</td>\n",
              "      <td>3.4</td>\n",
              "      <td>177.961</td>\n",
              "      <td>8.11</td>\n",
              "      <td>10.1</td>\n",
              "      <td>17.9</td>\n",
              "      <td>NaN</td>\n",
              "      <td>2.2</td>\n",
              "      <td>75.88</td>\n",
              "      <td>0.765</td>\n",
              "      <td>NaN</td>\n",
              "      <td>NaN</td>\n",
              "      <td>NaN</td>\n",
              "      <td>NaN</td>\n",
              "    </tr>\n",
              "  </tbody>\n",
              "</table>\n",
              "</div>"
            ],
            "text/plain": [
              "      iso_code  ... excess_mortality_cumulative_per_million\n",
              "15878      BRA  ...                                     NaN\n",
              "15879      BRA  ...                                     NaN\n",
              "15880      BRA  ...                                     NaN\n",
              "15881      BRA  ...                                     NaN\n",
              "15882      BRA  ...                                     NaN\n",
              "\n",
              "[5 rows x 65 columns]"
            ]
          },
          "metadata": {},
          "execution_count": 13
        }
      ]
    },
    {
      "cell_type": "markdown",
      "metadata": {
        "id": "fyqLcLspFBzB"
      },
      "source": [
        "#Q4 - Considerando o primeiro caso de COVID-19 registrado, quantos dias se passaram até registrarmos a primeira morte?"
      ]
    },
    {
      "cell_type": "code",
      "metadata": {
        "colab": {
          "base_uri": "https://localhost:8080/"
        },
        "id": "Cioe5Mg3TKNq",
        "outputId": "cb198f99-b1bb-415a-9356-e99a7b2fb20d"
      },
      "source": [
        "#Identificar quantos dias demorou para registrarmos a primeira morte, considerando o primeiro caso de COVID-19 registrado.\n",
        "primeiro_caso = df_brasil.loc[df_brasil.total_cases==1, 'date']\n",
        "df_str2 = pd.Series.to_string(primeiro_caso.head(1))\n",
        "separar2 = df_str2.split()\n",
        "date1 = datetime.strptime(separar1[1], '%Y-%m-%d').date()\n",
        "date2 = datetime.strptime(separar2[1], '%Y-%m-%d').date()\n",
        "register_fs_death = date1 - date2\n",
        "print(f'Considerando o primeiro caso de COVID-19 registrado, se passaram {register_fs_death.days} dias até registrarmos a primeira morte.')"
      ],
      "execution_count": null,
      "outputs": [
        {
          "output_type": "stream",
          "name": "stdout",
          "text": [
            "Considerando o primeiro caso de COVID-19 registrado, se passaram 20 dias até registrarmos a primeira morte.\n"
          ]
        }
      ]
    },
    {
      "cell_type": "markdown",
      "metadata": {
        "id": "O74hNOhdFWTo"
      },
      "source": [
        "#Q5 - Como foi a evolução de casos de COVID-19 no Brasil?\n"
      ]
    },
    {
      "cell_type": "code",
      "metadata": {
        "colab": {
          "base_uri": "https://localhost:8080/",
          "height": 441
        },
        "id": "HS4Ifz4YchbB",
        "outputId": "4080ea94-bd52-415c-e311-538307414d07"
      },
      "source": [
        "#Plotar gráfico de linha em escala linear para os casos totais\n",
        "fig, ax = plt.subplots(figsize=(10,6))\n",
        "df_brasil.loc[df_brasil.location == 'Brazil', 'total_cases'].reset_index(drop=True).plot(kind='line', ax=ax)\n",
        "ax.set_title(\"Evolução do total de casos de COVID-19 no Brasil\")\n",
        "ax.set_xlabel('Número de Dias')\n",
        "ax.set_ylabel('Quantidade de Casos')\n",
        "plt.tight_layout()"
      ],
      "execution_count": null,
      "outputs": [
        {
          "output_type": "display_data",
          "data": {
            "image/png": "[encoded data removed]",
            "text/plain": [
              "<Figure size 720x432 with 1 Axes>"
            ]
          },
          "metadata": {
            "needs_background": "light"
          }
        }
      ]
    },
    {
      "cell_type": "markdown",
      "metadata": {
        "id": "CsV_jQpLKaNG"
      },
      "source": [
        "#Q6 - Como foi a evolução da quantidade de mortes por COVID 19?"
      ]
    },
    {
      "cell_type": "code",
      "metadata": {
        "colab": {
          "base_uri": "https://localhost:8080/",
          "height": 441
        },
        "id": "fUme86NIligb",
        "outputId": "a4bc0854-26fe-4442-94bd-dd0f8e63afcc"
      },
      "source": [
        "#Plotar gráfico de linha em escala linear para mortes totais.\n",
        "fig, ax = plt.subplots(figsize=(10,6))\n",
        "df_brasil.loc[df_brasil.location == 'Brazil', 'total_deaths'].reset_index(drop=True).plot(kind='line', ax=ax)\n",
        "ax.set_title(\"Evolução do total de mortes por COVID-19 no Brasil\")\n",
        "ax.set_xlabel('Número de Dias')\n",
        "ax.set_ylabel('Quantidade de Casos')\n",
        "plt.tight_layout()"
      ],
      "execution_count": null,
      "outputs": [
        {
          "output_type": "display_data",
          "data": {
            "image/png": "[encoded data removed]",
            "text/plain": [
              "<Figure size 720x432 with 1 Axes>"
            ]
          },
          "metadata": {
            "needs_background": "light"
          }
        }
      ]
    },
    {
      "cell_type": "markdown",
      "metadata": {
        "id": "sBw1BTBcOp7y"
      },
      "source": [
        "---\n",
        "#Vacinação"
      ]
    },
    {
      "cell_type": "markdown",
      "metadata": {
        "id": "gy77viimKvYe"
      },
      "source": [
        "#Q7 - Quais países possuem mais pessoas parcialmente vacinadas?\n",
        "\n",
        "Ao analisar está questão podemos notar algo interessante, só a India possui mais pessoas vacinadas parcialmente do que toda a Europa, América do Norte, União Européia e América do Sul, isso da devido...\n",
        "\n"
      ]
    },
    {
      "cell_type": "code",
      "metadata": {
        "colab": {
          "base_uri": "https://localhost:8080/",
          "height": 491
        },
        "id": "9PXhzwiyLF2A",
        "outputId": "13432d60-27d0-40fc-ab37-c71805595014"
      },
      "source": [
        "top5_vacin = df.loc[df.date == separar[1], ['location', 'people_vaccinated']].sort_values(by=\"people_vaccinated\", ascending=False)[2:7]\n",
        "fig, ax = plt.subplots(figsize=(10,6))\n",
        "top5_vacin.plot(x=\"location\", y=\"people_vaccinated\", kind=\"bar\", ax=ax)\n",
        "top5_vacin.head(20)\n",
        "ax.set_title('India vs Continentes')\n",
        "ax.set_xlabel('Local')\n",
        "ax.set_ylabel('Quantidade de pessoas vacinadas')"
      ],
      "execution_count": null,
      "outputs": [
        {
          "output_type": "execute_result",
          "data": {
            "text/plain": [
              "Text(0, 0.5, 'Quantidade de pessoas vacinadas')"
            ]
          },
          "metadata": {},
          "execution_count": 17
        },
        {
          "output_type": "display_data",
          "data": {
            "image/png": "[encoded data removed]",
            "text/plain": [
              "<Figure size 720x432 with 1 Axes>"
            ]
          },
          "metadata": {
            "needs_background": "light"
          }
        }
      ]
    },
    {
      "cell_type": "markdown",
      "metadata": {
        "id": "MmEYO1VicrFY"
      },
      "source": [
        "Abaixo da India os países que mais vacinaram são so seguintes:"
      ]
    },
    {
      "cell_type": "code",
      "metadata": {
        "colab": {
          "base_uri": "https://localhost:8080/",
          "height": 479
        },
        "id": "PtbYNgqec530",
        "outputId": "9e07bf9a-fb5e-4534-bd44-9b4ea67777e5"
      },
      "source": [
        "top5_country = df.loc[df.date == separar[1], ['location', 'people_vaccinated']].sort_values(by=\"people_vaccinated\", ascending=False)[7:12]\n",
        "top5_country.head(20)\n",
        "fig, ax = plt.subplots(figsize=(10,6))\n",
        "top5_country.plot(x=\"location\", y=\"people_vaccinated\", kind=\"bar\", ax=ax)\n",
        "top5_country.head(20)\n",
        "ax.set_title('Países que mais vacinaram')\n",
        "ax.set_xlabel('Países')\n",
        "ax.set_ylabel('Quantidade de pessoas vacinadas')"
      ],
      "execution_count": null,
      "outputs": [
        {
          "output_type": "execute_result",
          "data": {
            "text/plain": [
              "Text(0, 0.5, 'Quantidade de pessoas vacinadas')"
            ]
          },
          "metadata": {},
          "execution_count": 18
        },
        {
          "output_type": "display_data",
          "data": {
            "image/png": "[encoded data removed]",
            "text/plain": [
              "<Figure size 720x432 with 1 Axes>"
            ]
          },
          "metadata": {
            "needs_background": "light"
          }
        }
      ]
    },
    {
      "cell_type": "markdown",
      "metadata": {
        "id": "M_U7N8RNcHay"
      },
      "source": [
        "#Q8 - Quais países possuem mais pessoas completamente vacinadas?\n",
        "\n",
        "\n",
        "\n",
        "Ao analisarmos os países que possuem mais pessoas completamente vacinadas notamos algo semelhante ao ocorrido entre a India e alguns continentes; os Estados Unidos possuem mais habitantes completamente vacinados do que toda a América do sul.\n",
        "Ao verficar as datas das primeiras doses aplicadas podemos observar que os Estados Unidos iniciou a vacinação antes de qualquer país da América do Sul, talvez seja esse o motivo de possuirem um número maior de pessoas completamente vacinadas. "
      ]
    },
    {
      "cell_type": "code",
      "metadata": {
        "colab": {
          "base_uri": "https://localhost:8080/",
          "height": 479
        },
        "id": "HTRaUZmXesoY",
        "outputId": "c5c96432-43fe-401b-866d-e5d7e7c0e950"
      },
      "source": [
        "top5_vacin_full = df.loc[df.date == separar[1], ['location', 'people_fully_vaccinated']].sort_values(by=\"people_fully_vaccinated\", ascending=False)[5:10]\n",
        "fig, ax = plt.subplots(figsize=(10,6))\n",
        "top5_vacin_full.plot(x=\"location\", y=\"people_fully_vaccinated\", kind=\"bar\", ax=ax)\n",
        "ax.set_xlabel('Local')\n",
        "ax.set_ylabel('Quantidade de pessoas vacinadas')"
      ],
      "execution_count": null,
      "outputs": [
        {
          "output_type": "execute_result",
          "data": {
            "text/plain": [
              "Text(0, 0.5, 'Quantidade de pessoas vacinadas')"
            ]
          },
          "metadata": {},
          "execution_count": 19
        },
        {
          "output_type": "display_data",
          "data": {
            "image/png": "[encoded data removed]",
            "text/plain": [
              "<Figure size 720x432 with 1 Axes>"
            ]
          },
          "metadata": {
            "needs_background": "light"
          }
        }
      ]
    },
    {
      "cell_type": "markdown",
      "metadata": {
        "id": "WfS-Sdq2jO4y"
      },
      "source": [
        "#Conclusão\n",
        "\n",
        "O foco principal desse estudo foi abordar o número de casos, mortes e vacinação no momento atual da pandemia. Embora os dados nos permitam fazer algumas conclusões, o cenário é muito mais complexo e necessitaríamos de estudo muito maus aprofundado.\n",
        "No entanto, podemos observar que ainda temos uma crescente de casos e morte por COVID-19 em diversos lugares do mundo, tornando assim de extrema importância a vacinação em massa."
      ]
    }
  ]
}